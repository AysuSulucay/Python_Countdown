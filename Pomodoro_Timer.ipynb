{
 "cells": [
  {
   "cell_type": "markdown",
   "metadata": {},
   "source": [
    "tutorial"
   ]
  },
  {
   "cell_type": "code",
   "execution_count": null,
   "metadata": {},
   "outputs": [],
   "source": [
    "import time\n",
    "\n",
    "#pomodoro timer\n",
    "def pomodoro():\n",
    "    print(\"Pomodoro starts now!\")\n",
    "    for i in range(4):\n",
    "        t = 25*60\n",
    "        while t: \n",
    "            mins = t // 60\n",
    "            secs = t % 60\n",
    "            timer = '{:02d}:{:02d}'.format(mins, secs)\n",
    "            print(timer, end=\"\\r\") #overwrite previous line\n",
    "            time.sleep(1)\n",
    "            t -= 1 \n",
    "        print(\"Break Time!\")\n",
    "\n",
    "        t = 5*60\n",
    "        while t:\n",
    "            mins = t // 60\n",
    "            secs = t % 60 \n",
    "            timer = '{:02d}:{:02d}'.format(mins, secs)\n",
    "            print(timer, end=\"\\r\") #overwrite previous line\n",
    "            time.sleep(1)\n",
    "            t -= 1\n",
    "        print(\"Work Time!\")\n",
    "pomodoro()\n",
    "\n",
    "\n"
   ]
  }
 ],
 "metadata": {
  "interpreter": {
   "hash": "87ef2571e114e7c5966f32586e829490739d9deeddf12cf660b1559535f0d478"
  },
  "kernelspec": {
   "display_name": "Python 3.10.2 64-bit",
   "language": "python",
   "name": "python3"
  },
  "language_info": {
   "codemirror_mode": {
    "name": "ipython",
    "version": 3
   },
   "file_extension": ".py",
   "mimetype": "text/x-python",
   "name": "python",
   "nbconvert_exporter": "python",
   "pygments_lexer": "ipython3",
   "version": "3.10.2"
  },
  "orig_nbformat": 4
 },
 "nbformat": 4,
 "nbformat_minor": 2
}
