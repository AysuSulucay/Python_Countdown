{
 "cells": [
  {
   "cell_type": "markdown",
   "metadata": {},
   "source": [
    "In Python, floor division divides two numbers and rounds the result down to the nearest integer.\n",
    "\n",
    "For example: \n",
    "\n",
    "7 // 3 = 2\n"
   ]
  },
  {
   "cell_type": "code",
   "execution_count": 1,
   "metadata": {},
   "outputs": [
    {
     "name": "stdout",
     "output_type": "stream",
     "text": [
      "Blast off!\n"
     ]
    }
   ],
   "source": [
    "import time\n",
    "\n",
    "# countdown timer\n",
    "def countdown(t):\n",
    "  while t:\n",
    "    mins = t // 60 # floor division\n",
    "    secs = t % 60\n",
    "    timer = '{:02d}:{:02d}'.format(mins, secs)\n",
    "    \n",
    "    \"\"\"\n",
    "    rather than printing out each new time on a new line we want to overwrite the previous time with the current time remaining\n",
    "    \"\"\"\n",
    "    print(timer, end=\"\\r\") # overwrite previous line\n",
    "    time.sleep(1)\n",
    "    t -= 1\n",
    "  print('Blast off!')\n",
    "\n",
    "t = input(\"Enter the time in seconds: \")\n",
    "\n",
    "countdown(int(t))"
   ]
  }
 ],
 "metadata": {
  "interpreter": {
   "hash": "87ef2571e114e7c5966f32586e829490739d9deeddf12cf660b1559535f0d478"
  },
  "kernelspec": {
   "display_name": "Python 3.10.2 64-bit",
   "language": "python",
   "name": "python3"
  },
  "language_info": {
   "codemirror_mode": {
    "name": "ipython",
    "version": 3
   },
   "file_extension": ".py",
   "mimetype": "text/x-python",
   "name": "python",
   "nbconvert_exporter": "python",
   "pygments_lexer": "ipython3",
   "version": "3.10.2"
  },
  "orig_nbformat": 4
 },
 "nbformat": 4,
 "nbformat_minor": 2
}
