{
 "cells": [
  {
   "cell_type": "markdown",
   "metadata": {},
   "source": [
    "hangi hareketleri ne kadar süreliğine yapacağını girecek ve ardından süre başlayacak. \n",
    "- Boş bir dict oluştur\n",
    "- içini kullanıcının gireceği hareket ismi ve süresi ile doldur.\n",
    "- ayrı bir pencerede sayaç açmak"
   ]
  },
  {
   "cell_type": "code",
   "execution_count": 4,
   "metadata": {},
   "outputs": [
    {
     "name": "stdout",
     "output_type": "stream",
     "text": [
      "Next exercise!\n",
      "Next exercise!\n",
      "Done!\n"
     ]
    }
   ],
   "source": [
    "# Cardio Timer\n",
    "import time\n",
    "\n",
    "#emptyDict = {}\n",
    "\n",
    "def countdown(t):\n",
    "  while t:\n",
    "    mins = t // 60 \n",
    "    secs = t % 60\n",
    "    timer = '{:02d}:{:02d}'.format(mins, secs)\n",
    "    print(timer, end=\"\\r\") # overwrite previous line\n",
    "    time.sleep(1)\n",
    "    t -= 1\n",
    "  \n",
    "\n",
    "number_of_exercise_moves = int(input(\"How many exercises do you planning to do?: \"))\n",
    "\n",
    "t = int(input(\"Enter the time in seconds: \"))\n",
    "\n",
    "for i in range(number_of_exercise_moves):\n",
    "    countdown(t)\n",
    "    \n",
    "\n",
    "print(\"Done!\")\n",
    "\n"
   ]
  },
  {
   "cell_type": "code",
   "execution_count": null,
   "metadata": {},
   "outputs": [],
   "source": [
    "import time\n",
    "\n",
    "emptyDict = {}\n",
    "\n",
    "def countdown(t):\n",
    "  while t:\n",
    "    mins = t // 60 \n",
    "    secs = t % 60\n",
    "    timer = '{:02d}:{:02d}'.format(mins, secs)\n",
    "    print(timer, end=\"\\r\") # overwrite previous line\n",
    "    time.sleep(1)\n",
    "    t -= 1\n",
    "\n",
    "number_of_exercise_moves = int(input(\"How many movements do you planning to do?: \"))\n",
    "\n",
    "for i in range(number_of_exercise_moves):\n",
    "    exercise_name = input(\"Please enter the name of exercise: \")\n",
    "    t = int(input(\"Enter the time in seconds: \"))\n",
    "    emptyDict[exercise_name] = t\n",
    "\n",
    "print(emptyDict)\n",
    "\n",
    "\n",
    "\n",
    "\n"
   ]
  },
  {
   "cell_type": "code",
   "execution_count": null,
   "metadata": {},
   "outputs": [],
   "source": [
    "#Pomodoro timer gibi bir şey yapmaya çalış"
   ]
  }
 ],
 "metadata": {
  "interpreter": {
   "hash": "87ef2571e114e7c5966f32586e829490739d9deeddf12cf660b1559535f0d478"
  },
  "kernelspec": {
   "display_name": "Python 3.10.2 64-bit",
   "language": "python",
   "name": "python3"
  },
  "language_info": {
   "codemirror_mode": {
    "name": "ipython",
    "version": 3
   },
   "file_extension": ".py",
   "mimetype": "text/x-python",
   "name": "python",
   "nbconvert_exporter": "python",
   "pygments_lexer": "ipython3",
   "version": "3.10.2"
  },
  "orig_nbformat": 4
 },
 "nbformat": 4,
 "nbformat_minor": 2
}
