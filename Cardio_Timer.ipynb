{
 "cells": [
  {
   "cell_type": "markdown",
   "metadata": {},
   "source": [
    "hangi hareketleri ne kadar süreliğine yapacağını girecek ve ardından süre başlayacak. \n",
    "- Boş bir dict oluştur\n",
    "- içini kullanıcının gireceği hareket ismi ve süresi ile doldur.\n",
    "- ayrı bir pencerede sayaç açmak (GUI with trinket lib)"
   ]
  },
  {
   "cell_type": "code",
   "execution_count": null,
   "metadata": {},
   "outputs": [],
   "source": [
    "# Cardio Timer\n",
    "import time\n",
    "\n",
    "\n",
    "def countdown(t):\n",
    "  while t:\n",
    "    mins = t // 60 \n",
    "    secs = t % 60\n",
    "    timer = '{:02d}:{:02d}'.format(mins, secs)\n",
    "    print(timer, end=\"\\r\") # overwrite previous line\n",
    "    time.sleep(1)\n",
    "    t -= 1\n",
    "\n",
    "def start():\n",
    "    for x in reversed(range(0,4)):\n",
    "        time.sleep(1)\n",
    "        if x > 0:\n",
    "            print(f'\\rGet ready, the timer will start in: {x}', end='\\r')\n",
    "        else:\n",
    "            print(\"\\nSTART\")\n",
    "\n",
    "  \n",
    "\n",
    "number_of_exercise_moves = int(input(\"How many exercises do you planning to do?: \"))\n",
    "\n",
    "t = int(input(\"Enter the time in seconds: \"))\n",
    "\n",
    "start()\n",
    "\n",
    "for i in range(number_of_exercise_moves):\n",
    "    countdown(t)\n",
    "    \n",
    "\n",
    "print(\"FINISHED!\")\n",
    "\n"
   ]
  },
  {
   "cell_type": "markdown",
   "metadata": {},
   "source": [
    "amaç hareket sayısını öğrenip hareket isimleri ve ne kadar süreliğine yapılacağını bir dict atamak. \n",
    "daha sonra bu hareket sürelerinin başlatılması\n",
    "örneğin:\n",
    " 2 hareket yapacak dedi\n",
    " jumping jack 20 saniye\n",
    " toe tap 30 saniye\n",
    " dict = {'jumping jack': '20', 'toe tap': '30'}\n",
    "\n",
    " önce 20den geriye sayım daha sonra 30 dan geriye sayım yapacak! \n",
    " dictionary den valueları aldım liste yaptım fakat döngüye sokmak istiyorum nasıl yapabilirim?"
   ]
  },
  {
   "cell_type": "code",
   "execution_count": null,
   "metadata": {},
   "outputs": [],
   "source": [
    "# Cardio Timer with dict\n",
    "import time\n",
    "\n",
    "emptyDict = {}\n",
    "\n",
    "\n",
    "def countdown(t):\n",
    "  while t:\n",
    "    mins = t // 60 \n",
    "    secs = t % 60\n",
    "    timer = '{:02d}:{:02d}'.format(mins, secs)\n",
    "    print(timer, end=\"\\r\") # overwrite previous line\n",
    "    time.sleep(1)\n",
    "    t -= 1\n",
    "\n",
    "number_of_exercise_moves = int(input(\"How many movements do you planning to do?: \"))\n",
    "\n",
    "for i in range(number_of_exercise_moves):\n",
    "    exercise_name = input(\"Please enter the name of exercise: \")\n",
    "    exercise_time = int(input(\"Enter the time in seconds: \"))\n",
    "    emptyDict[exercise_name] = exercise_time\n",
    "\n",
    "print(emptyDict)\n",
    "\n",
    "\n",
    "\n",
    "names_of_exercises = list(emptyDict.keys())\n",
    "time_values_of_exercises = list(emptyDict.values())\n",
    "\n",
    "\n",
    "\n",
    "\n"
   ]
  },
  {
   "cell_type": "code",
   "execution_count": null,
   "metadata": {},
   "outputs": [],
   "source": [
    "# starting countdown\n",
    "import time\n",
    "\n",
    "def start(t):\n",
    "    for x in reversed(range(0,4)):\n",
    "        time.sleep(1)\n",
    "        if x > 0:\n",
    "            print(f'\\rGet ready, the timer will start in: {x}', end='\\r')\n",
    "        else:\n",
    "            print(\"\\nSTART\")\n",
    "\n",
    "start(t)"
   ]
  }
 ],
 "metadata": {
  "interpreter": {
   "hash": "87ef2571e114e7c5966f32586e829490739d9deeddf12cf660b1559535f0d478"
  },
  "kernelspec": {
   "display_name": "Python 3.10.2 64-bit",
   "language": "python",
   "name": "python3"
  },
  "language_info": {
   "codemirror_mode": {
    "name": "ipython",
    "version": 3
   },
   "file_extension": ".py",
   "mimetype": "text/x-python",
   "name": "python",
   "nbconvert_exporter": "python",
   "pygments_lexer": "ipython3",
   "version": "3.10.2"
  },
  "orig_nbformat": 4
 },
 "nbformat": 4,
 "nbformat_minor": 2
}
