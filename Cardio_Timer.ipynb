{
 "cells": [
  {
   "cell_type": "code",
   "execution_count": null,
   "metadata": {},
   "outputs": [],
   "source": [
    "# starting countdown\n",
    "import time\n",
    "\n",
    "def start():\n",
    "    for x in reversed(range(0,4)):\n",
    "        time.sleep(1)\n",
    "        if x > 0:\n",
    "            print(f'\\rGet ready, the timer will start in: {x}', end='\\r')\n",
    "        else:\n",
    "            print(\"\\nSTART\")\n",
    "\n",
    "start()"
   ]
  },
  {
   "cell_type": "code",
   "execution_count": null,
   "metadata": {},
   "outputs": [],
   "source": [
    "# Cardio Timer (Simple Version)\n",
    " \n",
    "import time\n",
    "\n",
    "\n",
    "def countdown(t):\n",
    "  while t:\n",
    "    mins = t // 60 \n",
    "    secs = t % 60\n",
    "    timer = '{:02d}:{:02d}'.format(mins, secs)\n",
    "    print(timer, end=\"\\r\") # overwrite previous line\n",
    "    time.sleep(1)\n",
    "    t -= 1\n",
    "\n",
    "def start():\n",
    "    for x in reversed(range(0,4)):\n",
    "        time.sleep(1)\n",
    "        if x > 0:\n",
    "            print(f'\\rGet ready, the timer will start in: {x}', end='\\r')\n",
    "        else:\n",
    "            print(\"\\nSTART\")\n",
    "\n",
    "  \n",
    "\n",
    "number_of_exercise_moves = int(input(\"How many exercises do you planning to do?: \"))\n",
    "\n",
    "t = int(input(\"Enter the time in seconds: \"))\n",
    "\n",
    "start()\n",
    "\n",
    "for i in range(number_of_exercise_moves):\n",
    "    countdown(t)\n",
    "    \n",
    "\n",
    "print(\"FINISHED!\")\n",
    "\n"
   ]
  },
  {
   "cell_type": "markdown",
   "metadata": {},
   "source": [
    "**The user will enter which exercises they want to do for how long and then the time will start.**\n",
    "- Create an empty dict -->  *Exercise_names_and_times = {}*\n",
    "- ask the user how many exercises they planning to do\n",
    "- Fill the dict with the exercise name and duration that the user will enter. (depending on the number of exercises)\n",
    "- starting to countdown\n",
    "\n",
    "\n",
    "*Planned for the future* open counter in a separate window."
   ]
  },
  {
   "cell_type": "code",
   "execution_count": null,
   "metadata": {},
   "outputs": [],
   "source": [
    "# Cardio Timer with Exercises names and times\n",
    "# Can choose specific time for different exercises\n",
    "\n",
    "import time\n",
    "\n",
    "Exercise_names_and_times = {}\n",
    "\n",
    "\n",
    "def countdown(t):\n",
    "  while t:\n",
    "    mins = t // 60 \n",
    "    secs = t % 60\n",
    "    timer = '{:02d}:{:02d}'.format(mins, secs)\n",
    "    print(timer, end=\"\\r\") # overwrite previous line\n",
    "    time.sleep(1)\n",
    "    t -= 1\n",
    "\n",
    "def start():\n",
    "    for x in reversed(range(0,4)):\n",
    "        time.sleep(1)\n",
    "        if x > 0:\n",
    "            print(f'\\rGet ready, the timer will start in: {x}', end='\\r')\n",
    "        else:\n",
    "            print(\"\\nSTART\")\n",
    "\n",
    "number_of_exercise_moves = int(input(\"How many movements do you planning to do?: \"))\n",
    "\n",
    "for i in range(number_of_exercise_moves):\n",
    "    exercise_name = input(\"Please enter the name of exercise: \")\n",
    "    exercise_time = int(input(\"Enter the time in times: \"))\n",
    "    Exercise_names_and_times[exercise_name] = exercise_time\n",
    "\n",
    "print(Exercise_names_and_times)\n",
    "\n",
    "start()\n",
    "\n",
    "for exercise_time in list(Exercise_names_and_times.values()):\n",
    "  countdown(exercise_time)\n",
    "\n",
    "\n"
   ]
  }
 ],
 "metadata": {
  "interpreter": {
   "hash": "87ef2571e114e7c5966f32586e829490739d9deeddf12cf660b1559535f0d478"
  },
  "kernelspec": {
   "display_name": "Python 3.10.2 64-bit",
   "language": "python",
   "name": "python3"
  },
  "language_info": {
   "codemirror_mode": {
    "name": "ipython",
    "version": 3
   },
   "file_extension": ".py",
   "mimetype": "text/x-python",
   "name": "python",
   "nbconvert_exporter": "python",
   "pygments_lexer": "ipython3",
   "version": "3.8.3"
  },
  "orig_nbformat": 4
 },
 "nbformat": 4,
 "nbformat_minor": 2
}
